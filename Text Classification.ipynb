{
 "cells": [
  {
   "cell_type": "code",
   "execution_count": 18,
   "metadata": {},
   "outputs": [],
   "source": [
    "import sys\n",
    "import os\n",
    "from nltk.corpus import stopwords \n",
    "from nltk.tokenize import word_tokenize \n",
    "import string\n",
    "import numpy as np\n",
    "import re\n",
    "import pandas as pd\n",
    "from sklearn.model_selection import train_test_split \n",
    "import matplotlib.pyplot as plt\n",
    "import math as m"
   ]
  },
  {
   "cell_type": "code",
   "execution_count": 19,
   "metadata": {},
   "outputs": [],
   "source": [
    "# This is the fuction in which we are getting our words from the file \n",
    "def give_words_from_file(path_file):\n",
    "    x=[]\n",
    "    stop_words = set(stopwords.words('english')) \n",
    "    doc_file = open(path_file,\"r\",errors =\"ignore\")\n",
    "    doc_text = doc_file.read()\n",
    "    words = doc_text.split()\n",
    "    for r in words:\n",
    "        r = re.sub(r'[^\\w\\s]','',r)        # here we are removing commas plus all sing to make our paragrpaph in words \n",
    "        r = re.sub(r'\\d+', '', r)\n",
    "        r = r.replace(\"_\",\" \")\n",
    "        r=r.lower()                    # all letter are made small \n",
    "        if r in stop_words:            # here i am not taking stop word\n",
    "            continue\n",
    "        else:\n",
    "            if  len(r) <= 3:           # here i am taking works words of length 3 to 14 only\n",
    "                continue\n",
    "            elif len(r) >=14:\n",
    "                continue\n",
    "            else:\n",
    "                x=np.append(x,r)\n",
    "    return x"
   ]
  },
  {
   "cell_type": "code",
   "execution_count": 20,
   "metadata": {},
   "outputs": [],
   "source": [
    "def update_frequency_of_words(x,output,df):  #here we update the frequency of words in our df \n",
    "    index = 0\n",
    "    for path_file in x:\n",
    "        words = give_words_from_file(path_file)  # we gets the words in our particular file \n",
    "        for i in words:       \n",
    "            df.iloc[index][i]+=1     # filling no. of words in df\n",
    "        index+=1\n",
    "    return df"
   ]
  },
  {
   "cell_type": "code",
   "execution_count": 21,
   "metadata": {},
   "outputs": [],
   "source": [
    "def put_words_in_array(file): # this function will put our all words into the array \n",
    "    x=[]\n",
    "    stop_words = set(stopwords.words('english')) \n",
    "    for path_file in file:\n",
    "        doc_file = open(path_file,\"r\",errors =\"ignore\")\n",
    "        doc_text = doc_file.read()\n",
    "        words = set(doc_text.split())\n",
    "        for r in words:\n",
    "            r = re.sub(r'[^\\w\\s]','',r)  # here we are removing commas plus all sign to make our paragrpaph in words\n",
    "            r = re.sub(r'\\d+', '', r)\n",
    "            r = r.replace(\"_\",\" \")\n",
    "            r=r.lower()             # all letter are made small \n",
    "            if r in stop_words:    # here i am not taking stop word  \n",
    "                continue\n",
    "            else:\n",
    "                if  len(r) <= 3:  # here i am taking works words of length 3 to 14 only                \n",
    "                    continue\n",
    "                elif len(r) >=14:\n",
    "                    continue\n",
    "                else:\n",
    "                    x=np.append(x,r)\n",
    "    x = set(x)\n",
    "    x = list(x)\n",
    "    return x"
   ]
  },
  {
   "cell_type": "code",
   "execution_count": 22,
   "metadata": {
    "scrolled": false
   },
   "outputs": [],
   "source": [
    "def filepath(path):      # in this function we will get the path of the file \n",
    "    x=[]\n",
    "    y=[]\n",
    "    k=0\n",
    "    for folder in os.listdir(path):\n",
    "        path_folder = path + \"\\\\\"  +  folder\n",
    "        for files in os.listdir(path_folder):\n",
    "            path_file = path_folder + \"\\\\\" + files\n",
    "            x.append(path_file)\n",
    "            y.append(k)\n",
    "        k+=1\n",
    "    return x,y"
   ]
  },
  {
   "cell_type": "code",
   "execution_count": 23,
   "metadata": {},
   "outputs": [],
   "source": [
    "def get_graph_components(df,words):            # here we will get the componts of words \n",
    "    sumx = df.sum(axis = 0, skipna = True) \n",
    "    points = {}\n",
    "    for i in range(max(sumx)+1):      # here we get the max of the word in the particualr row\n",
    "        points[i]=0\n",
    "    for k in sumx:\n",
    "        points[k]+=1\n",
    "    return points,sumx"
   ]
  },
  {
   "cell_type": "code",
   "execution_count": 24,
   "metadata": {},
   "outputs": [],
   "source": [
    "def print_graph(points,sumx):  # here we print the graph\n",
    "    y=[]\n",
    "    x=[]\n",
    "    for i in range(max(sumx)):\n",
    "        y.append(i)\n",
    "        x.append(points[i])\n",
    "    plt.plot(y,x)\n",
    "    plt.axis([0,250 , 0 , 500])\n",
    "    plt.show()"
   ]
  },
  {
   "cell_type": "code",
   "execution_count": 25,
   "metadata": {},
   "outputs": [],
   "source": [
    "def drop_coloumns(sumx,df):         # here we drop all unncessary coloumns from our df \n",
    "    sumvalue = pd.DataFrame(sumx)\n",
    "    sumvalue.columns = [\"column\"]\n",
    "    sumvalue = sumvalue.sort_values(by=\"column\" , ascending=True)\n",
    "    values = sumvalue.index[0:(len(sumvalue.index) - 1500)]\n",
    "    df = df.drop(values,axis = 1)\n",
    "    return df"
   ]
  },
  {
   "cell_type": "code",
   "execution_count": 26,
   "metadata": {},
   "outputs": [],
   "source": [
    "def make_dictionary(df,output):   # this we marke dictionary so that we can get predict our ans           \n",
    "    outval = set(output.iloc[:,0])\n",
    "    count = {}\n",
    "    name = list(df)\n",
    "    for i in outval:\n",
    "        count[i] = {}\n",
    "        s = 0\n",
    "        for j in range(df.shape[1]):\n",
    "            ans      = output[output[0] == i]\n",
    "            indexsum = df.iloc[ans.index]\n",
    "            indexsum  = indexsum.sum(axis = 0, skipna = True)\n",
    "            count[i][name[j]] = indexsum[j]\n",
    "            s+=count[i][name[j]]\n",
    "        count[i][\"sumall\"] = s\n",
    "            \n",
    "            \n",
    "    return count"
   ]
  },
  {
   "cell_type": "code",
   "execution_count": 27,
   "metadata": {},
   "outputs": [],
   "source": [
    "def predict(x,dictionary,output,df):\n",
    "    y = []\n",
    "    name = list(df)\n",
    "    outval = set(output.iloc[:,0])\n",
    "    for i in x:\n",
    "        words = give_words_from_file(i)\n",
    "        maxprob = -10000000\n",
    "        ans = -10000\n",
    "        for j in outval:\n",
    "            prob1 = m.log(len(output[output[0]==j])) - m.log(len(output[0]))\n",
    "            for k in words:\n",
    "                if k in name:\n",
    "                    prob1 = prob1 + (m.log(dictionary[j][k] + 1)-m.log(dictionary[j][\"sumall\"] + len(name)))\n",
    "            if maxprob<prob1:\n",
    "                maxprob = prob1\n",
    "                ans = j\n",
    "        y.append(ans)\n",
    "    return y"
   ]
  },
  {
   "cell_type": "code",
   "execution_count": 28,
   "metadata": {},
   "outputs": [],
   "source": [
    "def accuracy(y_test,y_pred):\n",
    "    count = 0\n",
    "    for i in range(len(y_test)):\n",
    "        if(y_test[i]==y_pred[i]):\n",
    "            count+=1\n",
    "    return count"
   ]
  },
  {
   "cell_type": "code",
   "execution_count": 29,
   "metadata": {},
   "outputs": [
    {
     "data": {
      "image/png": "[encoded data removed]",
      "text/plain": [
       "<Figure size 432x288 with 1 Axes>"
      ]
     },
     "metadata": {
      "needs_background": "light"
     },
     "output_type": "display_data"
    },
    {
     "name": "stdout",
     "output_type": "stream",
     "text": [
      "75\n",
      "120\n",
      "[10, 10, 1, 15, 17, 14, 15, 3, 9, 1, 16, 6, 6, 12, 7, 11, 16, 12, 2, 8, 4, 11, 11, 17, 10, 15, 18, 18, 0, 3, 5, 11, 9, 8, 3, 13, 12, 7, 7, 10, 12, 17, 0, 3, 12, 9, 18, 10, 0, 16, 10, 18, 12, 14, 9, 8, 9, 13, 9, 12, 5, 9, 4, 9, 5, 18, 1, 5, 18, 5, 9, 13, 16, 19, 5, 9, 5, 9, 16, 17, 19, 5, 7, 16, 7, 0, 16, 0, 7, 8, 19, 16, 16, 17, 2, 14, 3, 9, 16, 16, 6, 5, 9, 9, 14, 0, 2, 9, 5, 19, 11, 9, 5, 15, 19, 13, 4, 2, 5, 19]\n",
      "[9, 9, 1, 15, 15, 10, 15, 4, 9, 1, 5, 6, 6, 5, 1, 11, 16, 4, 2, 9, 4, 11, 11, 17, 10, 15, 18, 18, 9, 3, 5, 11, 9, 8, 2, 5, 11, 1, 7, 10, 4, 19, 19, 3, 3, 9, 18, 9, 0, 4, 10, 11, 6, 14, 9, 8, 9, 7, 9, 9, 5, 9, 4, 9, 5, 17, 4, 5, 18, 5, 9, 13, 16, 16, 5, 9, 5, 9, 16, 17, 9, 5, 7, 16, 7, 7, 16, 0, 6, 8, 9, 18, 9, 17, 1, 5, 9, 9, 16, 16, 5, 5, 9, 0, 14, 9, 5, 9, 5, 0, 11, 9, 5, 15, 7, 13, 9, 5, 5, 19]\n"
     ]
    }
   ],
   "source": [
    "path = r'C:\\Users\\naive base\\news'\n",
    "x,y=filepath(path)   # we will get the paths of x and y \n",
    "X_train,X_test,Y_train,Y_test = train_test_split(x,y,random_state = 1)  # separtion our file into train test format\n",
    "words = put_words_in_array(X_train)    # here we get all word in our file into an array \n",
    "s = (len(Y_train),len(words))  # tuple to get datafroame \n",
    "ans = np.zeros(s,dtype=int)    # 2D array for datafrome \n",
    "#################################\n",
    "df = pd.DataFrame(ans)   # dataframe of ans\n",
    "df.columns = words       # each coloumn is words\n",
    "###########################\n",
    "output = pd.DataFrame(Y_train)   # y_train is put in thd form of dataframe\n",
    "df = update_frequency_of_words(X_train,output,df)   # in this we are updating no. of words in our \n",
    "points,sumx=get_graph_components(df,words)       # here we get the components of the graph\n",
    "print_graph(points,sumx)\n",
    "df = drop_coloumns(sumx,df)          # here we drop coloumsn of sumx from df \n",
    "dictionary = make_dictionary(df,output)        # here we make dictionary  of ouput \n",
    "prediction =  predict(X_test,dictionary,output,df)  # here we predict out all values \n",
    "print(accuracy(Y_test,prediction))      # here we get our accuracy in our code \n",
    "print(len(Y_test))\n",
    "print(Y_test)\n",
    "print(prediction)\n"
   ]
  }
 ],
 "metadata": {
  "kernelspec": {
   "display_name": "Python 3",
   "language": "python",
   "name": "python3"
  },
  "language_info": {
   "codemirror_mode": {
    "name": "ipython",
    "version": 3
   },
   "file_extension": ".py",
   "mimetype": "text/x-python",
   "name": "python",
   "nbconvert_exporter": "python",
   "pygments_lexer": "ipython3",
   "version": "3.7.1"
  }
 },
 "nbformat": 4,
 "nbformat_minor": 2
}
